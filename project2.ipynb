{
 "cells": [
  {
   "cell_type": "code",
   "execution_count": 1,
   "id": "daac28d1",
   "metadata": {},
   "outputs": [],
   "source": [
    "import numpy as np"
   ]
  },
  {
   "cell_type": "code",
   "execution_count": 2,
   "id": "c56cc95e",
   "metadata": {},
   "outputs": [
    {
     "name": "stdout",
     "output_type": "stream",
     "text": [
      "[[1 1 1]\n",
      " [1 1 1]\n",
      " [1 1 1]]\n"
     ]
    }
   ],
   "source": [
    "mx1=np.array([[1,1,1],[1,1,1],[1,1,1]])\n",
    "print(mx1)"
   ]
  },
  {
   "cell_type": "code",
   "execution_count": 4,
   "id": "e2843596",
   "metadata": {},
   "outputs": [
    {
     "name": "stdout",
     "output_type": "stream",
     "text": [
      "[1. 1. 1. 1. 1.]\n"
     ]
    }
   ],
   "source": [
    "mx2=np.ones(5)\n",
    "print(mx2)"
   ]
  },
  {
   "cell_type": "code",
   "execution_count": 5,
   "id": "8646e48e",
   "metadata": {},
   "outputs": [
    {
     "name": "stdout",
     "output_type": "stream",
     "text": [
      "[[1. 1. 1. 1.]\n",
      " [1. 1. 1. 1.]\n",
      " [1. 1. 1. 1.]]\n"
     ]
    }
   ],
   "source": [
    "mx3 =np.ones((3,4))\n",
    "print(mx3)"
   ]
  },
  {
   "cell_type": "code",
   "execution_count": 14,
   "id": "91ee6f19",
   "metadata": {},
   "outputs": [
    {
     "name": "stdout",
     "output_type": "stream",
     "text": [
      "[[ True  True  True  True]\n",
      " [ True  True  True  True]\n",
      " [ True  True  True  True]\n",
      " [ True  True  True  True]]\n"
     ]
    }
   ],
   "source": [
    "mx4=np.ones((4,4) , dtype=bool)\n",
    "print(mx4)"
   ]
  },
  {
   "cell_type": "code",
   "execution_count": 15,
   "id": "83e0a3f4",
   "metadata": {},
   "outputs": [
    {
     "name": "stdout",
     "output_type": "stream",
     "text": [
      "[[False False False False False]\n",
      " [False False False False False]\n",
      " [False False False False False]]\n"
     ]
    }
   ],
   "source": [
    "mx5=np.zeros((3,5), dtype=bool)\n",
    "print(mx5)"
   ]
  },
  {
   "cell_type": "code",
   "execution_count": 16,
   "id": "3d555cc8",
   "metadata": {},
   "outputs": [
    {
     "name": "stdout",
     "output_type": "stream",
     "text": [
      "[['' '' '' '' '']\n",
      " ['' '' '' '' '']\n",
      " ['' '' '' '' '']\n",
      " ['' '' '' '' '']]\n"
     ]
    }
   ],
   "source": [
    "mx0=np.zeros((4,5), dtype=str)\n",
    "print(mx0)"
   ]
  },
  {
   "cell_type": "code",
   "execution_count": 17,
   "id": "3a2d0995",
   "metadata": {},
   "outputs": [
    {
     "name": "stdout",
     "output_type": "stream",
     "text": [
      "[[1. 1. 1. 1.]\n",
      " [1. 1. 1. 1.]\n",
      " [1. 1. 1. 1.]]\n"
     ]
    }
   ],
   "source": [
    "em_0=np.empty((3,4))\n",
    "print(em_0)"
   ]
  },
  {
   "cell_type": "code",
   "execution_count": null,
   "id": "68e94785",
   "metadata": {},
   "outputs": [],
   "source": []
  }
 ],
 "metadata": {
  "kernelspec": {
   "display_name": "Python 3 (ipykernel)",
   "language": "python",
   "name": "python3"
  },
  "language_info": {
   "codemirror_mode": {
    "name": "ipython",
    "version": 3
   },
   "file_extension": ".py",
   "mimetype": "text/x-python",
   "name": "python",
   "nbconvert_exporter": "python",
   "pygments_lexer": "ipython3",
   "version": "3.9.13"
  }
 },
 "nbformat": 4,
 "nbformat_minor": 5
}
