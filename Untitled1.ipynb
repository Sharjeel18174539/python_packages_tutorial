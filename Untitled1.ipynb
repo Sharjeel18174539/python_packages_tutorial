{
 "cells": [
  {
   "cell_type": "markdown",
   "id": "810f1f24",
   "metadata": {},
   "source": [
    "# how to create pandas dataframe"
   ]
  },
  {
   "cell_type": "code",
   "execution_count": 1,
   "id": "28151501",
   "metadata": {},
   "outputs": [],
   "source": [
    "import pandas as pd"
   ]
  },
  {
   "cell_type": "code",
   "execution_count": 2,
   "id": "b33f5d2e",
   "metadata": {},
   "outputs": [
    {
     "name": "stdout",
     "output_type": "stream",
     "text": [
      "Empty DataFrame\n",
      "Columns: []\n",
      "Index: []\n"
     ]
    }
   ],
   "source": [
    "emt_f=pd.DataFrame()\n",
    "print(emt_f)"
   ]
  },
  {
   "cell_type": "code",
   "execution_count": 3,
   "id": "e55cf4ae",
   "metadata": {},
   "outputs": [
    {
     "name": "stdout",
     "output_type": "stream",
     "text": [
      "   0\n",
      "0  1\n",
      "1  2\n",
      "2  3\n",
      "3  4\n"
     ]
    }
   ],
   "source": [
    "df2=[1,2,3,4]\n",
    "df=pd.DataFrame(df2)\n",
    "print(df)"
   ]
  },
  {
   "cell_type": "code",
   "execution_count": 4,
   "id": "7f533116",
   "metadata": {},
   "outputs": [
    {
     "data": {
      "text/plain": [
       "{'id': [23, 4, 56, 32], 'sn': [1, 67, 78, 98]}"
      ]
     },
     "execution_count": 4,
     "metadata": {},
     "output_type": "execute_result"
    }
   ],
   "source": [
    "dict={'id': [23,4,56,32], 'sn':[1,67,78,98]}\n",
    "dict"
   ]
  },
  {
   "cell_type": "code",
   "execution_count": 5,
   "id": "f31c7e3e",
   "metadata": {},
   "outputs": [
    {
     "name": "stdout",
     "output_type": "stream",
     "text": [
      "   id  sn\n",
      "0  23   1\n",
      "1   4  67\n",
      "2  56  78\n",
      "3  32  98\n"
     ]
    }
   ],
   "source": [
    "df1=pd.DataFrame(dict)\n",
    "print(df1)"
   ]
  },
  {
   "cell_type": "code",
   "execution_count": 7,
   "id": "d2c2188e",
   "metadata": {},
   "outputs": [
    {
     "name": "stdout",
     "output_type": "stream",
     "text": [
      "   id  sn\n",
      "0   1   6\n",
      "1   2   7\n",
      "2   3   8\n",
      "3   4   9\n"
     ]
    }
   ],
   "source": [
    "df3={'id': pd.Series([1,2,3,4]), 'sn': pd.Series([6,7,8,9])}\n",
    "df4=pd.DataFrame(df3)\n",
    "print(df4)"
   ]
  },
  {
   "cell_type": "code",
   "execution_count": null,
   "id": "460f0334",
   "metadata": {},
   "outputs": [],
   "source": []
  }
 ],
 "metadata": {
  "kernelspec": {
   "display_name": "Python 3 (ipykernel)",
   "language": "python",
   "name": "python3"
  },
  "language_info": {
   "codemirror_mode": {
    "name": "ipython",
    "version": 3
   },
   "file_extension": ".py",
   "mimetype": "text/x-python",
   "name": "python",
   "nbconvert_exporter": "python",
   "pygments_lexer": "ipython3",
   "version": "3.9.13"
  }
 },
 "nbformat": 4,
 "nbformat_minor": 5
}
